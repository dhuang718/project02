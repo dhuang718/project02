{
 "cells": [
  {
   "cell_type": "markdown",
   "id": "8303198e",
   "metadata": {},
   "source": [
    "# Analysis of Yelp Business Intelligence Data"
   ]
  },
  {
   "cell_type": "markdown",
   "id": "bcfee136",
   "metadata": {},
   "source": [
    "We will analyze a subset of Yelp's business, reviews and user data. This dataset comes to us from [Kaggle](https://www.kaggle.com/yelp-dataset/yelp-dataset) although we have taken steps to pull this data into a publis s3 bucket: `s3://sta9760-yelpdataset/yelp-light/*business.json`"
   ]
  },
  {
   "cell_type": "markdown",
   "id": "5992972a",
   "metadata": {},
   "source": [
    "# Installation and Initial Setup"
   ]
  },
  {
   "cell_type": "markdown",
   "id": "e251e81f",
   "metadata": {},
   "source": [
    "Begin by installing the necessary libraries that you may need to conduct your analysis. At the very least, you must install `pandas` and `matplotlib`"
   ]
  },
  {
   "cell_type": "code",
   "execution_count": 1,
   "id": "b8135890",
   "metadata": {},
   "outputs": [
    {
     "data": {
      "application/vnd.jupyter.widget-view+json": {
       "model_id": "79a7aff2d1b143a7b8564626394cfd09",
       "version_major": 2,
       "version_minor": 0
      },
      "text/plain": [
       "VBox()"
      ]
     },
     "metadata": {},
     "output_type": "display_data"
    },
    {
     "name": "stdout",
     "output_type": "stream",
     "text": [
      "Starting Spark application\n"
     ]
    },
    {
     "data": {
      "text/html": [
       "<table>\n",
       "<tr><th>ID</th><th>YARN Application ID</th><th>Kind</th><th>State</th><th>Spark UI</th><th>Driver log</th><th>Current session?</th></tr><tr><td>0</td><td>application_1638245194643_0001</td><td>pyspark</td><td>idle</td><td><a target=\"_blank\" href=\"http://ip-172-31-15-77.us-east-2.compute.internal:20888/proxy/application_1638245194643_0001/\">Link</a></td><td><a target=\"_blank\" href=\"http://ip-172-31-5-81.us-east-2.compute.internal:8042/node/containerlogs/container_1638245194643_0001_01_000001/livy\">Link</a></td><td>✔</td></tr></table>"
      ],
      "text/plain": [
       "<IPython.core.display.HTML object>"
      ]
     },
     "metadata": {},
     "output_type": "display_data"
    },
    {
     "data": {
      "application/vnd.jupyter.widget-view+json": {
       "model_id": "",
       "version_major": 2,
       "version_minor": 0
      },
      "text/plain": [
       "FloatProgress(value=0.0, bar_style='info', description='Progress:', layout=Layout(height='25px', width='50%'),…"
      ]
     },
     "metadata": {},
     "output_type": "display_data"
    },
    {
     "name": "stdout",
     "output_type": "stream",
     "text": [
      "SparkSession available as 'spark'.\n"
     ]
    },
    {
     "data": {
      "application/vnd.jupyter.widget-view+json": {
       "model_id": "",
       "version_major": 2,
       "version_minor": 0
      },
      "text/plain": [
       "FloatProgress(value=0.0, bar_style='info', description='Progress:', layout=Layout(height='25px', width='50%'),…"
      ]
     },
     "metadata": {},
     "output_type": "display_data"
    },
    {
     "name": "stdout",
     "output_type": "stream",
     "text": [
      "Installing matplotlib:\n",
      "Collecting matplotlib==3.2.1\n",
      "  Downloading https://files.pythonhosted.org/packages/b2/c2/71fcf957710f3ba1f09088b35776a799ba7dd95f7c2b195ec800933b276b/matplotlib-3.2.1-cp37-cp37m-manylinux1_x86_64.whl (12.4MB)\n",
      "Collecting python-dateutil>=2.1 (from matplotlib==3.2.1)\n",
      "  Downloading https://files.pythonhosted.org/packages/36/7a/87837f39d0296e723bb9b62bbb257d0355c7f6128853c78955f57342a56d/python_dateutil-2.8.2-py2.py3-none-any.whl (247kB)\n",
      "Collecting pyparsing!=2.0.4,!=2.1.2,!=2.1.6,>=2.0.1 (from matplotlib==3.2.1)\n",
      "  Downloading https://files.pythonhosted.org/packages/a0/34/895006117f6fce0b4de045c87e154ee4a20c68ec0a4c9a36d900888fb6bc/pyparsing-3.0.6-py3-none-any.whl (97kB)\n",
      "Collecting cycler>=0.10 (from matplotlib==3.2.1)\n",
      "  Downloading https://files.pythonhosted.org/packages/5c/f9/695d6bedebd747e5eb0fe8fad57b72fdf25411273a39791cde838d5a8f51/cycler-0.11.0-py3-none-any.whl\n",
      "Requirement already satisfied: numpy>=1.11 in /usr/local/lib64/python3.7/site-packages (from matplotlib==3.2.1)\n",
      "Collecting kiwisolver>=1.0.1 (from matplotlib==3.2.1)\n",
      "  Downloading https://files.pythonhosted.org/packages/09/6b/6e567cb2e86d4e5939a9233f8734e26021b6a9c1bc4b1edccba236a84cc2/kiwisolver-1.3.2-cp37-cp37m-manylinux_2_5_x86_64.manylinux1_x86_64.whl (1.1MB)\n",
      "Requirement already satisfied: six>=1.5 in /usr/local/lib/python3.7/site-packages (from python-dateutil>=2.1->matplotlib==3.2.1)\n",
      "Installing collected packages: python-dateutil, pyparsing, cycler, kiwisolver, matplotlib\n",
      "Successfully installed cycler-0.11.0 kiwisolver-1.3.2 matplotlib-3.2.1 pyparsing-3.0.6 python-dateutil-2.8.2\n",
      "\n",
      "Installing pyparsing:\n",
      "Collecting pyparsing==2.4.7\n",
      "  Downloading https://files.pythonhosted.org/packages/8a/bb/488841f56197b13700afd5658fc279a2025a39e22449b7cf29864669b15d/pyparsing-2.4.7-py2.py3-none-any.whl (67kB)\n",
      "Installing collected packages: pyparsing\n",
      "  Found existing installation: pyparsing 3.0.6\n",
      "    Uninstalling pyparsing-3.0.6:\n",
      "      Successfully uninstalled pyparsing-3.0.6\n",
      "Successfully installed pyparsing-2.4.7\n",
      "\n",
      "Installing python-dateutil:\n",
      "Collecting python-dateutil==2.8.1\n",
      "  Downloading https://files.pythonhosted.org/packages/d4/70/d60450c3dd48ef87586924207ae8907090de0b306af2bce5d134d78615cb/python_dateutil-2.8.1-py2.py3-none-any.whl (227kB)\n",
      "Requirement already satisfied: six>=1.5 in /usr/local/lib/python3.7/site-packages (from python-dateutil==2.8.1)\n",
      "Installing collected packages: python-dateutil\n",
      "  Found existing installation: python-dateutil 2.8.2\n",
      "    Uninstalling python-dateutil-2.8.2:\n",
      "      Successfully uninstalled python-dateutil-2.8.2\n",
      "Successfully installed python-dateutil-2.8.1\n",
      "\n",
      "Installing kiwisolver:\n",
      "Collecting kiwisolver==1.2.0\n",
      "  Downloading https://files.pythonhosted.org/packages/31/b9/6202dcae729998a0ade30e80ac00f616542ef445b088ec970d407dfd41c0/kiwisolver-1.2.0-cp37-cp37m-manylinux1_x86_64.whl (88kB)\n",
      "Installing collected packages: kiwisolver\n",
      "  Found existing installation: kiwisolver 1.3.2\n",
      "    Uninstalling kiwisolver-1.3.2:\n",
      "      Successfully uninstalled kiwisolver-1.3.2\n",
      "Successfully installed kiwisolver-1.2.0\n",
      "\n",
      "Installing cycler:\n",
      "Collecting cycler==0.10.0\n",
      "  Downloading https://files.pythonhosted.org/packages/f7/d2/e07d3ebb2bd7af696440ce7e754c59dd546ffe1bbe732c8ab68b9c834e61/cycler-0.10.0-py2.py3-none-any.whl\n",
      "Requirement already satisfied: six in /usr/local/lib/python3.7/site-packages (from cycler==0.10.0)\n",
      "Installing collected packages: cycler\n",
      "  Found existing installation: cycler 0.11.0\n",
      "    Uninstalling cycler-0.11.0:\n",
      "      Successfully uninstalled cycler-0.11.0\n",
      "Successfully installed cycler-0.10.0\n",
      "\n",
      "Installing pandas:\n",
      "Collecting pandas==1.0.3\n",
      "  Downloading https://files.pythonhosted.org/packages/4a/6a/94b219b8ea0f2d580169e85ed1edc0163743f55aaeca8a44c2e8fc1e344e/pandas-1.0.3-cp37-cp37m-manylinux1_x86_64.whl (10.0MB)\n",
      "Requirement already satisfied: pytz>=2017.2 in /usr/local/lib/python3.7/site-packages (from pandas==1.0.3)\n",
      "Requirement already satisfied: numpy>=1.13.3 in /usr/local/lib64/python3.7/site-packages (from pandas==1.0.3)\n",
      "Requirement already satisfied: python-dateutil>=2.6.1 in /mnt/tmp/1638246474516-0/lib/python3.7/site-packages (from pandas==1.0.3)\n",
      "Requirement already satisfied: six>=1.5 in /usr/local/lib/python3.7/site-packages (from python-dateutil>=2.6.1->pandas==1.0.3)\n",
      "Installing collected packages: pandas\n",
      "Successfully installed pandas-1.0.3\n",
      "\n",
      "Installing pybind11:\n",
      "Collecting pybind11==2.8.1\n",
      "  Downloading https://files.pythonhosted.org/packages/a8/3b/fc246e1d4c7547a7a07df830128e93c6215e9b93dcb118b2a47a70726153/pybind11-2.8.1-py2.py3-none-any.whl (208kB)\n",
      "Installing collected packages: pybind11\n",
      "Successfully installed pybind11-2.8.1\n",
      "\n",
      "Installing scipy:\n",
      "Collecting scipy==1.4.1\n",
      "  Downloading https://files.pythonhosted.org/packages/dd/82/c1fe128f3526b128cfd185580ba40d01371c5d299fcf7f77968e22dfcc2e/scipy-1.4.1-cp37-cp37m-manylinux1_x86_64.whl (26.1MB)\n",
      "Requirement already satisfied: numpy>=1.13.3 in /usr/local/lib64/python3.7/site-packages (from scipy==1.4.1)\n",
      "Installing collected packages: scipy\n",
      "Successfully installed scipy-1.4.1\n",
      "\n",
      "Installing seaborn:\n",
      "Collecting seaborn==0.11.2\n",
      "  Downloading https://files.pythonhosted.org/packages/10/5b/0479d7d845b5ba410ca702ffcd7f2cd95a14a4dfff1fde2637802b258b9b/seaborn-0.11.2-py3-none-any.whl (292kB)\n",
      "Requirement already satisfied: numpy>=1.15 in /usr/local/lib64/python3.7/site-packages (from seaborn==0.11.2)\n",
      "Requirement already satisfied: scipy>=1.0 in /mnt/tmp/1638246474516-0/lib/python3.7/site-packages (from seaborn==0.11.2)\n",
      "Requirement already satisfied: matplotlib>=2.2 in /mnt/tmp/1638246474516-0/lib/python3.7/site-packages (from seaborn==0.11.2)\n",
      "Requirement already satisfied: pandas>=0.23 in /mnt/tmp/1638246474516-0/lib/python3.7/site-packages (from seaborn==0.11.2)\n",
      "Requirement already satisfied: python-dateutil>=2.1 in /mnt/tmp/1638246474516-0/lib/python3.7/site-packages (from matplotlib>=2.2->seaborn==0.11.2)\n",
      "Requirement already satisfied: pyparsing!=2.0.4,!=2.1.2,!=2.1.6,>=2.0.1 in /mnt/tmp/1638246474516-0/lib/python3.7/site-packages (from matplotlib>=2.2->seaborn==0.11.2)\n",
      "Requirement already satisfied: cycler>=0.10 in /mnt/tmp/1638246474516-0/lib/python3.7/site-packages (from matplotlib>=2.2->seaborn==0.11.2)\n",
      "Requirement already satisfied: kiwisolver>=1.0.1 in /mnt/tmp/1638246474516-0/lib/python3.7/site-packages (from matplotlib>=2.2->seaborn==0.11.2)\n",
      "Requirement already satisfied: pytz>=2017.2 in /usr/local/lib/python3.7/site-packages (from pandas>=0.23->seaborn==0.11.2)\n",
      "Requirement already satisfied: six>=1.5 in /usr/local/lib/python3.7/site-packages (from python-dateutil>=2.1->matplotlib>=2.2->seaborn==0.11.2)\n",
      "Installing collected packages: seaborn\n",
      "Successfully installed seaborn-0.11.2"
     ]
    }
   ],
   "source": [
    "#try:\n",
    "#    print('Installing pip:')\n",
    "#    sc.install_pypi_package(\"pip==21.3.1\")\n",
    "#except Exception as e:\n",
    "#    print(e)\n",
    "    \n",
    "#try:\n",
    "#    print('Installing numpy:')\n",
    "#    sc.install_pypi_package(\"numpy==1.18\")\n",
    "#except Exception as e:\n",
    "#    print(e)\n",
    "   \n",
    "#try:\n",
    "#    print('Installing pyspark:')\n",
    "#    sc.install_pypi_package(\"pyspark==2.0.0\")\n",
    "#except Exception as e:\n",
    "#    print(e)\n",
    "    \n",
    "try:\n",
    "    print('Installing matplotlib:')\n",
    "    sc.install_pypi_package(\"matplotlib==3.2.1\")\n",
    "except Exception as e:\n",
    "    print(e)\n",
    "\n",
    "try:\n",
    "    print('Installing pyparsing:')\n",
    "    sc.install_pypi_package(\"pyparsing==2.4.7\")\n",
    "except Exception as e:\n",
    "    print(e)\n",
    "\n",
    "try:\n",
    "    print('Installing python-dateutil:')\n",
    "    sc.install_pypi_package(\"python-dateutil==2.8.1\")\n",
    "except Exception as e:\n",
    "    print('python-dateutil:')\n",
    "    print(e)\n",
    "    \n",
    "try:\n",
    "    print('Installing kiwisolver:')\n",
    "    sc.install_pypi_package(\"kiwisolver==1.2.0\")\n",
    "except Exception as e:\n",
    "    print(e)\n",
    "    \n",
    "try:\n",
    "    print('Installing cycler:')\n",
    "    sc.install_pypi_package(\"cycler==0.10.0\")\n",
    "except Exception as e:\n",
    "    print(e)\n",
    "        \n",
    "try:\n",
    "    print('Installing pandas:')\n",
    "    sc.install_pypi_package(\"pandas==1.0.3\")\n",
    "except Exception as e:\n",
    "    print(e)\n",
    "\n",
    "try:\n",
    "    print('Installing pybind11:')\n",
    "    sc.install_pypi_package(\"pybind11==2.8.1\")\n",
    "except Exception as e:\n",
    "    print(e)\n",
    "    \n",
    "try:\n",
    "    print('Installing scipy:')\n",
    "    sc.install_pypi_package(\"scipy==1.4.1\")\n",
    "except Exception as e:\n",
    "    print(e)\n",
    "    \n",
    "try:\n",
    "    print('Installing seaborn:')\n",
    "    sc.install_pypi_package(\"seaborn==0.11.2\")\n",
    "except Exception as e:\n",
    "    print(e)"
   ]
  },
  {
   "cell_type": "code",
   "execution_count": 2,
   "id": "0cbbe55c",
   "metadata": {},
   "outputs": [
    {
     "data": {
      "application/vnd.jupyter.widget-view+json": {
       "model_id": "6644b03e4c164d6d9b2fb0f2062530f4",
       "version_major": 2,
       "version_minor": 0
      },
      "text/plain": [
       "VBox()"
      ]
     },
     "metadata": {},
     "output_type": "display_data"
    },
    {
     "data": {
      "application/vnd.jupyter.widget-view+json": {
       "model_id": "",
       "version_major": 2,
       "version_minor": 0
      },
      "text/plain": [
       "FloatProgress(value=0.0, bar_style='info', description='Progress:', layout=Layout(height='25px', width='50%'),…"
      ]
     },
     "metadata": {},
     "output_type": "display_data"
    },
    {
     "name": "stdout",
     "output_type": "stream",
     "text": [
      "Package                    Version  \n",
      "-------------------------- ---------\n",
      "beautifulsoup4             4.9.1    \n",
      "boto                       2.49.0   \n",
      "click                      7.1.2    \n",
      "cycler                     0.10.0   \n",
      "jmespath                   0.10.0   \n",
      "joblib                     0.16.0   \n",
      "kiwisolver                 1.2.0    \n",
      "lxml                       4.5.2    \n",
      "matplotlib                 3.2.1    \n",
      "mysqlclient                1.4.2    \n",
      "nltk                       3.5      \n",
      "nose                       1.3.4    \n",
      "numpy                      1.16.5   \n",
      "pandas                     1.0.3    \n",
      "pip                        9.0.1    \n",
      "py-dateutil                2.2      \n",
      "pybind11                   2.8.1    \n",
      "pyparsing                  2.4.7    \n",
      "python-dateutil            2.8.1    \n",
      "python37-sagemaker-pyspark 1.4.0    \n",
      "pytz                       2020.1   \n",
      "PyYAML                     5.3.1    \n",
      "regex                      2020.7.14\n",
      "scipy                      1.4.1    \n",
      "seaborn                    0.11.2   \n",
      "setuptools                 28.8.0   \n",
      "six                        1.13.0   \n",
      "soupsieve                  1.9.5    \n",
      "tqdm                       4.48.2   \n",
      "wheel                      0.29.0   \n",
      "windmill                   1.6"
     ]
    }
   ],
   "source": [
    "# Confirm our packages have been downloaded\n",
    "sc.list_packages()"
   ]
  },
  {
   "cell_type": "markdown",
   "id": "145890a0",
   "metadata": {},
   "source": [
    "# Importing"
   ]
  },
  {
   "cell_type": "markdown",
   "id": "5cf339b8",
   "metadata": {},
   "source": [
    "Now, import the installed packages from the previous block below."
   ]
  },
  {
   "cell_type": "code",
   "execution_count": 3,
   "id": "de76f117",
   "metadata": {},
   "outputs": [
    {
     "data": {
      "application/vnd.jupyter.widget-view+json": {
       "model_id": "e77397c7854744db8b5618d403138dee",
       "version_major": 2,
       "version_minor": 0
      },
      "text/plain": [
       "VBox()"
      ]
     },
     "metadata": {},
     "output_type": "display_data"
    },
    {
     "data": {
      "application/vnd.jupyter.widget-view+json": {
       "model_id": "",
       "version_major": 2,
       "version_minor": 0
      },
      "text/plain": [
       "FloatProgress(value=0.0, bar_style='info', description='Progress:', layout=Layout(height='25px', width='50%'),…"
      ]
     },
     "metadata": {},
     "output_type": "display_data"
    }
   ],
   "source": [
    "# Import packages\n",
    "\n",
    "import pandas as pd\n",
    "import pyspark.sql.functions as psf\n",
    "import seaborn as sns\n",
    "import matplotlib.pyplot as plt\n"
   ]
  },
  {
   "cell_type": "markdown",
   "id": "13828b12",
   "metadata": {},
   "source": [
    "# Loading Data"
   ]
  },
  {
   "cell_type": "markdown",
   "id": "d01bc0c1",
   "metadata": {},
   "source": [
    "We are finally ready to load data. Using `spark` load the data from S3 into a `dataframe` object that we can manipulate further down in our analysis."
   ]
  },
  {
   "cell_type": "code",
   "execution_count": 4,
   "id": "f085653c",
   "metadata": {},
   "outputs": [
    {
     "data": {
      "application/vnd.jupyter.widget-view+json": {
       "model_id": "dc4636a29d984c219694224ea762f539",
       "version_major": 2,
       "version_minor": 0
      },
      "text/plain": [
       "VBox()"
      ]
     },
     "metadata": {},
     "output_type": "display_data"
    },
    {
     "data": {
      "application/vnd.jupyter.widget-view+json": {
       "model_id": "",
       "version_major": 2,
       "version_minor": 0
      },
      "text/plain": [
       "FloatProgress(value=0.0, bar_style='info', description='Progress:', layout=Layout(height='25px', width='50%'),…"
      ]
     },
     "metadata": {},
     "output_type": "display_data"
    }
   ],
   "source": [
    "# Load business data\n",
    "df_business = spark.read.json('s3://yelpdatasta9760/yelp_academic_dataset_business.json')"
   ]
  },
  {
   "cell_type": "markdown",
   "id": "c96fc72a",
   "metadata": {},
   "source": [
    "# Overview of Data"
   ]
  },
  {
   "cell_type": "markdown",
   "id": "67d8f462",
   "metadata": {},
   "source": [
    "Display the number of rows and columns in our dataset."
   ]
  },
  {
   "cell_type": "code",
   "execution_count": 5,
   "id": "97c2390d",
   "metadata": {},
   "outputs": [
    {
     "data": {
      "application/vnd.jupyter.widget-view+json": {
       "model_id": "bfcf4339e1ab462c9a64f4690f48157d",
       "version_major": 2,
       "version_minor": 0
      },
      "text/plain": [
       "VBox()"
      ]
     },
     "metadata": {},
     "output_type": "display_data"
    },
    {
     "data": {
      "application/vnd.jupyter.widget-view+json": {
       "model_id": "",
       "version_major": 2,
       "version_minor": 0
      },
      "text/plain": [
       "FloatProgress(value=0.0, bar_style='info', description='Progress:', layout=Layout(height='25px', width='50%'),…"
      ]
     },
     "metadata": {},
     "output_type": "display_data"
    },
    {
     "name": "stdout",
     "output_type": "stream",
     "text": [
      "Total Columns: 14\n",
      "Total Rows: 160,585"
     ]
    }
   ],
   "source": [
    "print(f'Total Columns: {len(df_business.dtypes)}')\n",
    "print(f'Total Rows: {df_business.count():,}')"
   ]
  },
  {
   "cell_type": "markdown",
   "id": "67d9fb2f",
   "metadata": {},
   "source": [
    "Display the DataFrame schema below."
   ]
  },
  {
   "cell_type": "code",
   "execution_count": 6,
   "id": "7a28c6b5",
   "metadata": {},
   "outputs": [
    {
     "data": {
      "application/vnd.jupyter.widget-view+json": {
       "model_id": "dc2959f21b904dd7bf427fa5ec12600b",
       "version_major": 2,
       "version_minor": 0
      },
      "text/plain": [
       "VBox()"
      ]
     },
     "metadata": {},
     "output_type": "display_data"
    },
    {
     "data": {
      "application/vnd.jupyter.widget-view+json": {
       "model_id": "",
       "version_major": 2,
       "version_minor": 0
      },
      "text/plain": [
       "FloatProgress(value=0.0, bar_style='info', description='Progress:', layout=Layout(height='25px', width='50%'),…"
      ]
     },
     "metadata": {},
     "output_type": "display_data"
    },
    {
     "name": "stdout",
     "output_type": "stream",
     "text": [
      "root\n",
      " |-- address: string (nullable = true)\n",
      " |-- attributes: struct (nullable = true)\n",
      " |    |-- AcceptsInsurance: string (nullable = true)\n",
      " |    |-- AgesAllowed: string (nullable = true)\n",
      " |    |-- Alcohol: string (nullable = true)\n",
      " |    |-- Ambience: string (nullable = true)\n",
      " |    |-- BYOB: string (nullable = true)\n",
      " |    |-- BYOBCorkage: string (nullable = true)\n",
      " |    |-- BestNights: string (nullable = true)\n",
      " |    |-- BikeParking: string (nullable = true)\n",
      " |    |-- BusinessAcceptsBitcoin: string (nullable = true)\n",
      " |    |-- BusinessAcceptsCreditCards: string (nullable = true)\n",
      " |    |-- BusinessParking: string (nullable = true)\n",
      " |    |-- ByAppointmentOnly: string (nullable = true)\n",
      " |    |-- Caters: string (nullable = true)\n",
      " |    |-- CoatCheck: string (nullable = true)\n",
      " |    |-- Corkage: string (nullable = true)\n",
      " |    |-- DietaryRestrictions: string (nullable = true)\n",
      " |    |-- DogsAllowed: string (nullable = true)\n",
      " |    |-- DriveThru: string (nullable = true)\n",
      " |    |-- GoodForDancing: string (nullable = true)\n",
      " |    |-- GoodForKids: string (nullable = true)\n",
      " |    |-- GoodForMeal: string (nullable = true)\n",
      " |    |-- HairSpecializesIn: string (nullable = true)\n",
      " |    |-- HappyHour: string (nullable = true)\n",
      " |    |-- HasTV: string (nullable = true)\n",
      " |    |-- Music: string (nullable = true)\n",
      " |    |-- NoiseLevel: string (nullable = true)\n",
      " |    |-- Open24Hours: string (nullable = true)\n",
      " |    |-- OutdoorSeating: string (nullable = true)\n",
      " |    |-- RestaurantsAttire: string (nullable = true)\n",
      " |    |-- RestaurantsCounterService: string (nullable = true)\n",
      " |    |-- RestaurantsDelivery: string (nullable = true)\n",
      " |    |-- RestaurantsGoodForGroups: string (nullable = true)\n",
      " |    |-- RestaurantsPriceRange2: string (nullable = true)\n",
      " |    |-- RestaurantsReservations: string (nullable = true)\n",
      " |    |-- RestaurantsTableService: string (nullable = true)\n",
      " |    |-- RestaurantsTakeOut: string (nullable = true)\n",
      " |    |-- Smoking: string (nullable = true)\n",
      " |    |-- WheelchairAccessible: string (nullable = true)\n",
      " |    |-- WiFi: string (nullable = true)\n",
      " |-- business_id: string (nullable = true)\n",
      " |-- categories: string (nullable = true)\n",
      " |-- city: string (nullable = true)\n",
      " |-- hours: struct (nullable = true)\n",
      " |    |-- Friday: string (nullable = true)\n",
      " |    |-- Monday: string (nullable = true)\n",
      " |    |-- Saturday: string (nullable = true)\n",
      " |    |-- Sunday: string (nullable = true)\n",
      " |    |-- Thursday: string (nullable = true)\n",
      " |    |-- Tuesday: string (nullable = true)\n",
      " |    |-- Wednesday: string (nullable = true)\n",
      " |-- is_open: long (nullable = true)\n",
      " |-- latitude: double (nullable = true)\n",
      " |-- longitude: double (nullable = true)\n",
      " |-- name: string (nullable = true)\n",
      " |-- postal_code: string (nullable = true)\n",
      " |-- review_count: long (nullable = true)\n",
      " |-- stars: double (nullable = true)\n",
      " |-- state: string (nullable = true)"
     ]
    }
   ],
   "source": [
    "df_business.printSchema()"
   ]
  },
  {
   "cell_type": "markdown",
   "id": "10f8e6b2",
   "metadata": {},
   "source": [
    "Display the first 5 rows with the following columns:\n",
    "\n",
    "* `business_id`\n",
    "* `name`\n",
    "* `city`\n",
    "* `state`\n",
    "* `categories`"
   ]
  },
  {
   "cell_type": "code",
   "execution_count": 7,
   "id": "6d2cf538",
   "metadata": {},
   "outputs": [
    {
     "data": {
      "application/vnd.jupyter.widget-view+json": {
       "model_id": "61593371291944889fbe53ebc4d32796",
       "version_major": 2,
       "version_minor": 0
      },
      "text/plain": [
       "VBox()"
      ]
     },
     "metadata": {},
     "output_type": "display_data"
    },
    {
     "data": {
      "application/vnd.jupyter.widget-view+json": {
       "model_id": "",
       "version_major": 2,
       "version_minor": 0
      },
      "text/plain": [
       "FloatProgress(value=0.0, bar_style='info', description='Progress:', layout=Layout(height='25px', width='50%'),…"
      ]
     },
     "metadata": {},
     "output_type": "display_data"
    },
    {
     "name": "stdout",
     "output_type": "stream",
     "text": [
      "+--------------------+--------------------+-----------+-----+-----+--------------------+\n",
      "|         business_id|                name|       city|state|stars|          categories|\n",
      "+--------------------+--------------------+-----------+-----+-----+--------------------+\n",
      "|6iYb2HFDywm3zjuRg...| Oskar Blues Taproom|    Boulder|   CO|  4.0|Gastropubs, Food,...|\n",
      "|tCbdrRPZA0oiIYSmH...|Flying Elephants ...|   Portland|   OR|  4.0|Salad, Soup, Sand...|\n",
      "|bvN78flM8NLprQ1a1...|      The Reclaimory|   Portland|   OR|  4.5|Antiques, Fashion...|\n",
      "|oaepsyvc0J17qwi8c...|         Great Clips|Orange City|   FL|  3.0|Beauty & Spas, Ha...|\n",
      "|PE9uqAjdw0E4-8mjG...|   Crossfit Terminus|    Atlanta|   GA|  4.0|Gyms, Active Life...|\n",
      "+--------------------+--------------------+-----------+-----+-----+--------------------+\n",
      "only showing top 5 rows"
     ]
    }
   ],
   "source": [
    "# Show only 6 columns\n",
    "df_preview = df_business.select('business_id', 'name', 'city', 'state', 'stars', 'categories')\n",
    "df_preview.show(5)"
   ]
  },
  {
   "cell_type": "markdown",
   "id": "ff7493c5",
   "metadata": {},
   "source": [
    "# Analyzing Categories"
   ]
  },
  {
   "cell_type": "markdown",
   "id": "476a7f39",
   "metadata": {},
   "source": [
    "Let's now answer this question: **how many unique categories are represented in this dataset?**\n",
    "\n",
    "Essentially, we have the categories per business as a list - this is useful to quickly see what each business might be represented as but it is difficult to easily answer questions such as:\n",
    "\n",
    "* How many businesses are categorized as `Active Life`, for instance\n",
    "* What are the top 20 most popular categories available?"
   ]
  },
  {
   "cell_type": "markdown",
   "id": "a0a41ed0",
   "metadata": {},
   "source": [
    "## Association Table\n",
    "\n",
    "We need to \"break out\" these categories from the business ids? One common approach to take is to build an association table mapping a single business id multiple times to each distinct category.\n",
    "\n",
    "For instance, given the following:\n",
    "\n",
    "\n",
    "| business_id | categories |\n",
    "|-------------|------------|\n",
    "| abcd123     | a,b,c      |\n",
    "\n",
    "We would like to derive something like:\n",
    "\n",
    "| business_id | category |\n",
    "|-------------|------------|\n",
    "| abcd123     | a          |\n",
    "| abcd123     | b          |\n",
    "| abcd123     | c          |\n",
    "\n",
    "\n",
    "What this does is allow us to then perform a myriad of rollups and other analysis on this association table which can aid us in answering the questions asked above.\n",
    "\n",
    "Implement the code necessary to derive the table described from your original yelp dataframe."
   ]
  },
  {
   "cell_type": "code",
   "execution_count": 8,
   "id": "0c704c57",
   "metadata": {},
   "outputs": [
    {
     "data": {
      "application/vnd.jupyter.widget-view+json": {
       "model_id": "a63832532f0a40c596f94a6567992be7",
       "version_major": 2,
       "version_minor": 0
      },
      "text/plain": [
       "VBox()"
      ]
     },
     "metadata": {},
     "output_type": "display_data"
    },
    {
     "data": {
      "application/vnd.jupyter.widget-view+json": {
       "model_id": "",
       "version_major": 2,
       "version_minor": 0
      },
      "text/plain": [
       "FloatProgress(value=0.0, bar_style='info', description='Progress:', layout=Layout(height='25px', width='50%'),…"
      ]
     },
     "metadata": {},
     "output_type": "display_data"
    }
   ],
   "source": [
    "# Build association table for easier analytics of business table\n",
    "df_t = df_business.withColumn('categories', psf.explode(psf.split(\"categories\", \", \")))"
   ]
  },
  {
   "cell_type": "code",
   "execution_count": 9,
   "id": "52780511",
   "metadata": {},
   "outputs": [
    {
     "data": {
      "application/vnd.jupyter.widget-view+json": {
       "model_id": "79ad67e419434e1b9a180e7b83bc4ab1",
       "version_major": 2,
       "version_minor": 0
      },
      "text/plain": [
       "VBox()"
      ]
     },
     "metadata": {},
     "output_type": "display_data"
    },
    {
     "data": {
      "application/vnd.jupyter.widget-view+json": {
       "model_id": "",
       "version_major": 2,
       "version_minor": 0
      },
      "text/plain": [
       "FloatProgress(value=0.0, bar_style='info', description='Progress:', layout=Layout(height='25px', width='50%'),…"
      ]
     },
     "metadata": {},
     "output_type": "display_data"
    }
   ],
   "source": [
    "# Select columns for viewing\n",
    "df_assc = df_t.select('business_id', 'categories')"
   ]
  },
  {
   "cell_type": "markdown",
   "id": "0894da0f",
   "metadata": {},
   "source": [
    "Display the first 5 rows of your association table below."
   ]
  },
  {
   "cell_type": "code",
   "execution_count": 10,
   "id": "ea656247",
   "metadata": {},
   "outputs": [
    {
     "data": {
      "application/vnd.jupyter.widget-view+json": {
       "model_id": "f018c4163fd441e4ade40293bc913878",
       "version_major": 2,
       "version_minor": 0
      },
      "text/plain": [
       "VBox()"
      ]
     },
     "metadata": {},
     "output_type": "display_data"
    },
    {
     "data": {
      "application/vnd.jupyter.widget-view+json": {
       "model_id": "",
       "version_major": 2,
       "version_minor": 0
      },
      "text/plain": [
       "FloatProgress(value=0.0, bar_style='info', description='Progress:', layout=Layout(height='25px', width='50%'),…"
      ]
     },
     "metadata": {},
     "output_type": "display_data"
    },
    {
     "name": "stdout",
     "output_type": "stream",
     "text": [
      "+--------------------+------------+\n",
      "|         business_id|  categories|\n",
      "+--------------------+------------+\n",
      "|6iYb2HFDywm3zjuRg...|  Gastropubs|\n",
      "|6iYb2HFDywm3zjuRg...|        Food|\n",
      "|6iYb2HFDywm3zjuRg...|Beer Gardens|\n",
      "|6iYb2HFDywm3zjuRg...| Restaurants|\n",
      "|6iYb2HFDywm3zjuRg...|        Bars|\n",
      "+--------------------+------------+\n",
      "only showing top 5 rows"
     ]
    }
   ],
   "source": [
    "df_assc.show(5)"
   ]
  },
  {
   "cell_type": "markdown",
   "id": "6b463477",
   "metadata": {},
   "source": [
    "## Total Unique Categories\n",
    "\n",
    "Finally, we are ready to answer the question: **what is the total number of unique categories available?**\n",
    "\n",
    "Below, implement the code necessary to calculate this figure."
   ]
  },
  {
   "cell_type": "code",
   "execution_count": 11,
   "id": "15f1b393",
   "metadata": {},
   "outputs": [
    {
     "data": {
      "application/vnd.jupyter.widget-view+json": {
       "model_id": "fef431336cf84dae8c700b07edf77403",
       "version_major": 2,
       "version_minor": 0
      },
      "text/plain": [
       "VBox()"
      ]
     },
     "metadata": {},
     "output_type": "display_data"
    },
    {
     "data": {
      "application/vnd.jupyter.widget-view+json": {
       "model_id": "",
       "version_major": 2,
       "version_minor": 0
      },
      "text/plain": [
       "FloatProgress(value=0.0, bar_style='info', description='Progress:', layout=Layout(height='25px', width='50%'),…"
      ]
     },
     "metadata": {},
     "output_type": "display_data"
    },
    {
     "name": "stdout",
     "output_type": "stream",
     "text": [
      "[Row(count(DISTINCT categories)=1330)]"
     ]
    }
   ],
   "source": [
    "# Count of unique categories\n",
    "df_assc.select(psf.countDistinct(\"categories\")).collect()"
   ]
  },
  {
   "cell_type": "markdown",
   "id": "7e7fd417",
   "metadata": {},
   "source": [
    "## Top Categories By Business\n",
    "\n",
    "Now let's find the top categories in this dataset by rolling up categories."
   ]
  },
  {
   "cell_type": "markdown",
   "id": "9d22ceba",
   "metadata": {},
   "source": [
    "So now, let's unroll our distinct count a bit and display the per count value of businesses per category.\n",
    "\n",
    "The expected output should be:\n",
    "\n",
    "| category | count |\n",
    "|-------------|------------|\n",
    "| a     | 15         |\n",
    "| b     | 2          |\n",
    "| c     | 45          |\n",
    "\n",
    "Or something to that effect."
   ]
  },
  {
   "cell_type": "code",
   "execution_count": 12,
   "id": "aa092cec",
   "metadata": {},
   "outputs": [
    {
     "data": {
      "application/vnd.jupyter.widget-view+json": {
       "model_id": "ec1a6d437c4e4e69a0e35d7d357d006e",
       "version_major": 2,
       "version_minor": 0
      },
      "text/plain": [
       "VBox()"
      ]
     },
     "metadata": {},
     "output_type": "display_data"
    },
    {
     "data": {
      "application/vnd.jupyter.widget-view+json": {
       "model_id": "",
       "version_major": 2,
       "version_minor": 0
      },
      "text/plain": [
       "FloatProgress(value=0.0, bar_style='info', description='Progress:', layout=Layout(height='25px', width='50%'),…"
      ]
     },
     "metadata": {},
     "output_type": "display_data"
    },
    {
     "name": "stdout",
     "output_type": "stream",
     "text": [
      "+--------------------+-----+\n",
      "|          categories|count|\n",
      "+--------------------+-----+\n",
      "|         Restaurants|50763|\n",
      "|                Food|29469|\n",
      "|            Shopping|26205|\n",
      "|       Beauty & Spas|16574|\n",
      "|       Home Services|16465|\n",
      "|    Health & Medical|15102|\n",
      "|      Local Services|12192|\n",
      "|           Nightlife|11990|\n",
      "|                Bars|10741|\n",
      "|          Automotive|10119|\n",
      "|Event Planning & ...| 9644|\n",
      "|         Active Life| 9231|\n",
      "|        Coffee & Tea| 7725|\n",
      "|          Sandwiches| 7272|\n",
      "|             Fashion| 6599|\n",
      "|American (Traditi...| 6541|\n",
      "|         Hair Salons| 5900|\n",
      "|               Pizza| 5756|\n",
      "|     Hotels & Travel| 5703|\n",
      "|  Breakfast & Brunch| 5505|\n",
      "+--------------------+-----+\n",
      "only showing top 20 rows"
     ]
    }
   ],
   "source": [
    "# Count of businesses in each category\n",
    "groupby_count = df_assc.groupBy(\"categories\").count().orderBy('count', ascending = False)\n",
    "groupby_count.show()"
   ]
  },
  {
   "cell_type": "markdown",
   "id": "5033175f",
   "metadata": {},
   "source": [
    "### Bar Chart of Top Categories\n",
    "\n",
    "With this data available, let us now build a barchart of the top 20 categories. \n",
    "\n",
    "**HINT**: don't forget about the matplotlib magic!\n",
    "\n",
    "```\n",
    "%matplot plt\n",
    "```"
   ]
  },
  {
   "cell_type": "code",
   "execution_count": 13,
   "id": "3ceb2626",
   "metadata": {},
   "outputs": [
    {
     "data": {
      "application/vnd.jupyter.widget-view+json": {
       "model_id": "9858c64586d94dbdb6784ca0d309a8f5",
       "version_major": 2,
       "version_minor": 0
      },
      "text/plain": [
       "VBox()"
      ]
     },
     "metadata": {},
     "output_type": "display_data"
    },
    {
     "data": {
      "application/vnd.jupyter.widget-view+json": {
       "model_id": "",
       "version_major": 2,
       "version_minor": 0
      },
      "text/plain": [
       "FloatProgress(value=0.0, bar_style='info', description='Progress:', layout=Layout(height='25px', width='50%'),…"
      ]
     },
     "metadata": {},
     "output_type": "display_data"
    },
    {
     "data": {
      "image/png": "[encoded data removed]",
      "text/plain": [
       "<IPython.core.display.Image object>"
      ]
     },
     "metadata": {},
     "output_type": "display_data"
    }
   ],
   "source": [
    "import matplotlib\n",
    "\n",
    "# Create barchart vizualization\n",
    "pandasDF = groupby_count.toPandas()\n",
    "pandasDFcharting = pandasDF.head(20)\n",
    "\n",
    "# Plot\n",
    "plt.figure(figsize = (15,8))\n",
    "ax=sns.barplot(x='categories', y='count', data=pandasDFcharting)\n",
    "ax.set_xticklabels(ax.get_xticklabels(),rotation = 30)\n",
    "\n",
    "%matplot plt \n"
   ]
  },
  {
   "cell_type": "markdown",
   "id": "12c615df",
   "metadata": {},
   "source": [
    "# Do Yelp Reviews Skew Negative?\n",
    "\n",
    "Oftentimes, it is said that the only people who write a written review are those who are extremely _dissatisfied_ or extremely _satisfied_ with the service received. \n",
    "\n",
    "How true is this really? Let's try and answer this question."
   ]
  },
  {
   "cell_type": "markdown",
   "id": "cbd333ed",
   "metadata": {},
   "source": [
    "## Loading User Data\n",
    "\n",
    "Begin by loading the user data set from S3 and printing schema to determine what data is available."
   ]
  },
  {
   "cell_type": "code",
   "execution_count": 14,
   "id": "02fd1e9a",
   "metadata": {},
   "outputs": [
    {
     "data": {
      "application/vnd.jupyter.widget-view+json": {
       "model_id": "f192db5458474de69b761d064edf097a",
       "version_major": 2,
       "version_minor": 0
      },
      "text/plain": [
       "VBox()"
      ]
     },
     "metadata": {},
     "output_type": "display_data"
    },
    {
     "data": {
      "application/vnd.jupyter.widget-view+json": {
       "model_id": "",
       "version_major": 2,
       "version_minor": 0
      },
      "text/plain": [
       "FloatProgress(value=0.0, bar_style='info', description='Progress:', layout=Layout(height='25px', width='50%'),…"
      ]
     },
     "metadata": {},
     "output_type": "display_data"
    },
    {
     "name": "stdout",
     "output_type": "stream",
     "text": [
      "Total Columns: 9\n",
      "Total Rows: 8,635,403\n",
      "root\n",
      " |-- business_id: string (nullable = true)\n",
      " |-- cool: long (nullable = true)\n",
      " |-- date: string (nullable = true)\n",
      " |-- funny: long (nullable = true)\n",
      " |-- review_id: string (nullable = true)\n",
      " |-- stars: double (nullable = true)\n",
      " |-- text: string (nullable = true)\n",
      " |-- useful: long (nullable = true)\n",
      " |-- user_id: string (nullable = true)"
     ]
    }
   ],
   "source": [
    "df_reviews = spark.read.json('s3://yelpdatasta9760/yelp_academic_dataset_review.json')\n",
    "\n",
    "print(f'Total Columns: {len(df_reviews.dtypes)}')\n",
    "print(f'Total Rows: {df_reviews.count():,}')\n",
    "df_reviews.printSchema()"
   ]
  },
  {
   "cell_type": "markdown",
   "id": "baa3b75b",
   "metadata": {},
   "source": [
    "Let's begin by listing the `business_id` and `stars` columns together for the user reviews data."
   ]
  },
  {
   "cell_type": "code",
   "execution_count": 15,
   "id": "ce48faca",
   "metadata": {},
   "outputs": [
    {
     "data": {
      "application/vnd.jupyter.widget-view+json": {
       "model_id": "c01655e1655f4806b5a64c6edccee389",
       "version_major": 2,
       "version_minor": 0
      },
      "text/plain": [
       "VBox()"
      ]
     },
     "metadata": {},
     "output_type": "display_data"
    },
    {
     "data": {
      "application/vnd.jupyter.widget-view+json": {
       "model_id": "",
       "version_major": 2,
       "version_minor": 0
      },
      "text/plain": [
       "FloatProgress(value=0.0, bar_style='info', description='Progress:', layout=Layout(height='25px', width='50%'),…"
      ]
     },
     "metadata": {},
     "output_type": "display_data"
    },
    {
     "name": "stdout",
     "output_type": "stream",
     "text": [
      "+--------------------+-----+\n",
      "|         business_id|stars|\n",
      "+--------------------+-----+\n",
      "|buF9druCkbuXLX526...|  4.0|\n",
      "|RA4V8pr014UyUbDvI...|  4.0|\n",
      "|_sS2LBIGNT5NQb6PD...|  5.0|\n",
      "|0AzLzHfOJgL7ROwhd...|  2.0|\n",
      "|8zehGz9jnxPqXtOc7...|  4.0|\n",
      "+--------------------+-----+\n",
      "only showing top 5 rows"
     ]
    }
   ],
   "source": [
    "# Show 2 columns of review dataframe\n",
    "df_stars = df_reviews.select('business_id', 'stars')\n",
    "df_stars.show(5)"
   ]
  },
  {
   "cell_type": "markdown",
   "id": "5524d3bb",
   "metadata": {},
   "source": [
    "Now, let's aggregate along the `stars` column to get a resultant dataframe that displays _average stars_ per business as accumulated by users who **took the time to submit a written review**."
   ]
  },
  {
   "cell_type": "code",
   "execution_count": 16,
   "id": "9cacd7b4",
   "metadata": {},
   "outputs": [
    {
     "data": {
      "application/vnd.jupyter.widget-view+json": {
       "model_id": "9e9f7980ed2d44359449d91b6f710b7f",
       "version_major": 2,
       "version_minor": 0
      },
      "text/plain": [
       "VBox()"
      ]
     },
     "metadata": {},
     "output_type": "display_data"
    },
    {
     "data": {
      "application/vnd.jupyter.widget-view+json": {
       "model_id": "",
       "version_major": 2,
       "version_minor": 0
      },
      "text/plain": [
       "FloatProgress(value=0.0, bar_style='info', description='Progress:', layout=Layout(height='25px', width='50%'),…"
      ]
     },
     "metadata": {},
     "output_type": "display_data"
    },
    {
     "name": "stdout",
     "output_type": "stream",
     "text": [
      "+--------------------+------------------+\n",
      "|         business_id|      Review_Score|\n",
      "+--------------------+------------------+\n",
      "|uEUweopM30lHcVxjO...|2.7777777777777777|\n",
      "|wdBrDCbZopowEkIEX...| 4.466666666666667|\n",
      "|bOnsvrz1VkbrZM1jV...|               3.8|\n",
      "|R0IJhEI-zSJpYT1YN...| 3.533333333333333|\n",
      "|XzXcpPCb8Y5huklEN...| 4.666666666666667|\n",
      "+--------------------+------------------+\n",
      "only showing top 5 rows"
     ]
    }
   ],
   "source": [
    "# Get average score of each business, only reviews with greater than 150 characters are counted\n",
    "df_reviews.createOrReplaceTempView('Yelpdata_reviews')\n",
    "\n",
    "sqldf = spark.sql(\n",
    "'''\n",
    "SELECT business_id, avg(stars) as Review_Score \n",
    "FROM Yelpdata_reviews\n",
    "WHERE length(text) >= 150\n",
    "GROUP BY business_id\n",
    "LIMIT 20\n",
    "'''\n",
    ")\n",
    "\n",
    "sqldf.show(5)"
   ]
  },
  {
   "cell_type": "markdown",
   "id": "affccf49",
   "metadata": {},
   "source": [
    "Now the fun part - let's join our two dataframes (reviews and business data) by `business_id`. "
   ]
  },
  {
   "cell_type": "code",
   "execution_count": 17,
   "id": "daef6009",
   "metadata": {},
   "outputs": [
    {
     "data": {
      "application/vnd.jupyter.widget-view+json": {
       "model_id": "9c0d3fa1b63c47c394066db8d9c32f55",
       "version_major": 2,
       "version_minor": 0
      },
      "text/plain": [
       "VBox()"
      ]
     },
     "metadata": {},
     "output_type": "display_data"
    },
    {
     "data": {
      "application/vnd.jupyter.widget-view+json": {
       "model_id": "",
       "version_major": 2,
       "version_minor": 0
      },
      "text/plain": [
       "FloatProgress(value=0.0, bar_style='info', description='Progress:', layout=Layout(height='25px', width='50%'),…"
      ]
     },
     "metadata": {},
     "output_type": "display_data"
    }
   ],
   "source": [
    "# join business and reviews dataframes\n",
    "\n",
    "df_business.createOrReplaceTempView('Yelpdata_business')\n",
    "\n",
    "sqldf1 = spark.sql(\n",
    "'''\n",
    "SELECT yb.business_id, avg(yr.stars) as Review_Score, first(yb.name) as name, first(yb.city) as city, first(yb.state) as state\n",
    "FROM Yelpdata_business yb\n",
    "JOIN Yelpdata_reviews yr ON yb.business_id = yr.business_id\n",
    "GROUP BY yb.business_id\n",
    "LIMIT 20\n",
    "'''\n",
    ")"
   ]
  },
  {
   "cell_type": "markdown",
   "id": "1e5a2bc2",
   "metadata": {},
   "source": [
    "Let's see a few of these:"
   ]
  },
  {
   "cell_type": "code",
   "execution_count": 18,
   "id": "68ac2af8",
   "metadata": {},
   "outputs": [
    {
     "data": {
      "application/vnd.jupyter.widget-view+json": {
       "model_id": "c351522dda6e406082eaa840c22b78bd",
       "version_major": 2,
       "version_minor": 0
      },
      "text/plain": [
       "VBox()"
      ]
     },
     "metadata": {},
     "output_type": "display_data"
    },
    {
     "data": {
      "application/vnd.jupyter.widget-view+json": {
       "model_id": "",
       "version_major": 2,
       "version_minor": 0
      },
      "text/plain": [
       "FloatProgress(value=0.0, bar_style='info', description='Progress:', layout=Layout(height='25px', width='50%'),…"
      ]
     },
     "metadata": {},
     "output_type": "display_data"
    },
    {
     "name": "stdout",
     "output_type": "stream",
     "text": [
      "+--------------------+------------------+--------------------+-----------------+-----+\n",
      "|         business_id|      Review_Score|                name|             city|state|\n",
      "+--------------------+------------------+--------------------+-----------------+-----+\n",
      "|--0DF12EMHYI8XIgo...| 4.333333333333333|Joe's Advanced Au...|           Smyrna|   GA|\n",
      "|--hLwt1d-CymEs7KT...|3.8333333333333335|Little Amsterdam ...|        Milwaukie|   OR|\n",
      "|-0sIQ96u8XevGUXZ-...| 3.779816513761468|Copacabana Cuba Cafe|Altamonte Springs|   FL|\n",
      "|-1WrFiy7X43HD4OxF...| 3.730769230769231|            Cinemark|         Columbus|   OH|\n",
      "|-1rvXk4zbX3I6ddMC...| 4.087378640776699|     ZenCha Tea Cafe|           Bexley|   OH|\n",
      "|-2-RiF6h0SVVkjVwe...| 2.857142857142857|Canton Plumbing &...|           Canton|   MA|\n",
      "|-2OFRpDsjtwFJP31W...|2.6666666666666665|             Denny's|         PORTLAND|   OR|\n",
      "|-2joeHbqY9TayADes...| 4.119760479041916|        Lynwood Cafe|         Randolph|   MA|\n",
      "|-3CNyvzgW7ASXPmSZ...|              2.75|Stanley Park Ghos...|        Vancouver|   BC|\n",
      "|-3ZAPcamH9lPHvkbO...|3.8461538461538463|The Westin Orland...|          Orlando|   FL|\n",
      "|-497StkBbvRrxUs6R...| 3.175675675675676|    House of Vintage|         Portland|   OR|\n",
      "|-4k7fspe6MGoO6WpS...|               4.0|      Penrose Realty|           Boston|   MA|\n",
      "|-5G8ujs_p2Ir1u6sN...|               4.5|Elite Import Auto...|           Austin|   TX|\n",
      "|-5Uqm5_grHV7LCdC1...|               4.4|       The Dance Inn|        Lexington|   MA|\n",
      "|-5VyAi8GR34xmDAgF...|3.7002288329519453|               Verde|          Atlanta|   GA|\n",
      "|-75Dnp3pdz1Y1tBCE...|1.3529411764705883|Sun Country Airlines|         Portland|   OR|\n",
      "|-7jzk0NUJP2aFyERL...|               2.5|            PetSmart|        Davenport|   FL|\n",
      "|-8N16tYqXP-ixDDzw...|               4.0|The Coffee Bean &...|           Austin|   TX|\n",
      "|-93SwBU3VREpx0hG0...|               4.2|Td Bank Financial...|        Vancouver|   BC|\n",
      "|-9AJAELrWVza80mgh...|               4.5|North Shore Barte...|            Salem|   MA|\n",
      "+--------------------+------------------+--------------------+-----------------+-----+"
     ]
    }
   ],
   "source": [
    "sqldf1.show()"
   ]
  },
  {
   "cell_type": "markdown",
   "id": "0c4d905f",
   "metadata": {},
   "source": [
    "Compute a new dataframe that calculates what we will call the _skew_ (for lack of a better word) between the avg stars accumulated from written reviews and the _actual_ star rating of a business (ie: the average of stars given by reviewers who wrote an actual review **and** reviewers who just provided a star rating).\n",
    "\n",
    "The formula you can use is something like:\n",
    "\n",
    "```\n",
    "(row['avg(stars)'] - row['stars']) / row['stars']\n",
    "```\n",
    "\n",
    "If the **skew** is negative, we can interpret that to be: reviewers who left a written response were more dissatisfied than normal. If **skew** is positive, we can interpret that to be: reviewers who left a written response were more satisfied than normal."
   ]
  },
  {
   "cell_type": "code",
   "execution_count": 19,
   "id": "b5dc7a12",
   "metadata": {},
   "outputs": [
    {
     "data": {
      "application/vnd.jupyter.widget-view+json": {
       "model_id": "9b562d40e5d545c6a470d539b28d940b",
       "version_major": 2,
       "version_minor": 0
      },
      "text/plain": [
       "VBox()"
      ]
     },
     "metadata": {},
     "output_type": "display_data"
    },
    {
     "data": {
      "application/vnd.jupyter.widget-view+json": {
       "model_id": "",
       "version_major": 2,
       "version_minor": 0
      },
      "text/plain": [
       "FloatProgress(value=0.0, bar_style='info', description='Progress:', layout=Layout(height='25px', width='50%'),…"
      ]
     },
     "metadata": {},
     "output_type": "display_data"
    },
    {
     "name": "stdout",
     "output_type": "stream",
     "text": [
      "+--------------------+----------------------+------------------+--------------------+\n",
      "|         business_id|Review_Score_with_text|   Total_Avg_score|                Skew|\n",
      "+--------------------+----------------------+------------------+--------------------+\n",
      "|--JuLhLvq3gyjNnXT...|                   5.0|               5.0|                 0.0|\n",
      "|--_nBudPOb1lNRgKf...|                 3.875|             3.875|                 0.0|\n",
      "|--kyOk0waSrCDlbSv...|    3.7777777777777777|3.8666666666666667|-0.08888888888888902|\n",
      "|--z9usx6Fin8P_f0v...|                   5.0|               5.0|                 0.0|\n",
      "|-0qeY1293steyCqYh...|                 3.375|             3.375|                 0.0|\n",
      "|-0wZIJnbYSstEGj3u...|                   1.8|               1.8|                 0.0|\n",
      "|-1Dcv3siosFTgDJhN...|     4.076923076923077|               4.2|-0.12307692307692353|\n",
      "|-28M_3R-Iq3KjY3fa...|                   2.7|2.5454545454545454| 0.15454545454545476|\n",
      "|-2DAKRNW7SwJG4aKo...|     3.689655172413793| 3.774193548387097|-0.08453837597330383|\n",
      "|-2ysHxktRcDom1m9A...|                   5.0|               5.0|                 0.0|\n",
      "|-3IqRwpj-iTz1nQWC...|    3.1666666666666665| 2.857142857142857|  0.3095238095238093|\n",
      "|-4DDszZHzSvY5unbt...|    1.8113207547169812|1.8392857142857142|-0.02796495956873...|\n",
      "|-5zKNFxuoPm8L9OQ0...|     4.344827586206897|           4.34375|0.001077586206896...|\n",
      "|-66HiDa701jBc2qK8...|    3.6623376623376624|3.6744186046511627|-0.01208094231350021|\n",
      "|-6FX2iidcEY5OMOY_...|    4.2444444444444445|4.2075471698113205| 0.03689727463312398|\n",
      "|-6QKHeA7pr2uLtqJd...|                   5.0|               5.0|                 0.0|\n",
      "|-6gIAeMUuR7XJViob...|    2.5762711864406778| 2.693548387096774|-0.11727720065609626|\n",
      "|-6uXqbL1TvTHLyfsS...|                   3.4|               3.4|                 0.0|\n",
      "|-777fa6pKF-dcIJLo...|    3.3421052631578947| 3.577777777777778|-0.23567251461988326|\n",
      "|-7C5aM1UytSeiHksX...|                   4.8|               4.8|                 0.0|\n",
      "+--------------------+----------------------+------------------+--------------------+\n",
      "only showing top 20 rows"
     ]
    }
   ],
   "source": [
    "# skew test\n",
    "\n",
    "# (row['avg(stars)'] - row['stars']) / row['stars']\n",
    "\n",
    "sqldf2 = spark.sql(\n",
    "'''\n",
    "SELECT t1.business_id, t1.Review_Score_with_text, t2.Total_Avg_score, (t1.Review_Score_with_text-t2.Total_Avg_score) as Skew\n",
    "FROM\n",
    "(\n",
    "SELECT yb.business_id, avg(yr.stars) as Review_Score_with_text\n",
    "FROM Yelpdata_business yb\n",
    "JOIN Yelpdata_reviews yr ON yb.business_id = yr.business_id\n",
    "WHERE length(yr.text) >= 150\n",
    "GROUP BY yb.business_id ) t1\n",
    "\n",
    "INNER JOIN \n",
    "\n",
    "(SELECT yb.business_id, avg(yr.stars) as Total_Avg_Score \n",
    "FROM Yelpdata_business yb\n",
    "JOIN Yelpdata_reviews yr ON yb.business_id = yr.business_id\n",
    "GROUP BY yb.business_id) t2 \n",
    "\n",
    "ON t1.business_id = t2.business_id\n",
    "\n",
    "'''\n",
    ")\n",
    "\n",
    "sqldf2.show()\n"
   ]
  },
  {
   "cell_type": "markdown",
   "id": "b58e96ff",
   "metadata": {},
   "source": [
    "And finally, graph it!"
   ]
  },
  {
   "cell_type": "code",
   "execution_count": 20,
   "id": "0afaf88b",
   "metadata": {},
   "outputs": [
    {
     "data": {
      "application/vnd.jupyter.widget-view+json": {
       "model_id": "9b0eac2285b34008bb2151984b2c1e5e",
       "version_major": 2,
       "version_minor": 0
      },
      "text/plain": [
       "VBox()"
      ]
     },
     "metadata": {},
     "output_type": "display_data"
    },
    {
     "data": {
      "application/vnd.jupyter.widget-view+json": {
       "model_id": "",
       "version_major": 2,
       "version_minor": 0
      },
      "text/plain": [
       "FloatProgress(value=0.0, bar_style='info', description='Progress:', layout=Layout(height='25px', width='50%'),…"
      ]
     },
     "metadata": {},
     "output_type": "display_data"
    },
    {
     "data": {
      "image/png": "[encoded data removed]",
      "text/plain": [
       "<IPython.core.display.Image object>"
      ]
     },
     "metadata": {},
     "output_type": "display_data"
    }
   ],
   "source": [
    "# plot it \n",
    "pandas_skew_df = sqldf2.toPandas()\n",
    "\n",
    "plt.figure(figsize = (15,8))\n",
    "plt.hist(pandas_skew_df['Skew'], density=True, bins = 100)\n",
    "\n",
    "plt.margins(x=-.3, y=.25)   # Values in (-0.5, 0.0) zooms in to center\n",
    "\n",
    "plt.ylabel('Count')\n",
    "plt.xlabel('Review Score Difference')\n",
    "plt.show() \n",
    "\n",
    "%matplot plt \n",
    "\n"
   ]
  },
  {
   "cell_type": "markdown",
   "id": "30c687d7",
   "metadata": {},
   "source": [
    "So, do Yelp (written) Reviews skew negative? Does this analysis actually prove anything? Expound on implications / interpretations of this graph. "
   ]
  },
  {
   "cell_type": "markdown",
   "id": "79b491fa",
   "metadata": {},
   "source": [
    "Yes, the scores skew negative. This means that reviewers who write long text reviews tend to be more dissatisfied with the business."
   ]
  },
  {
   "cell_type": "markdown",
   "id": "fdd54dfa",
   "metadata": {},
   "source": [
    "### Extra Credit"
   ]
  },
  {
   "cell_type": "markdown",
   "id": "895e4c0b",
   "metadata": {},
   "source": [
    "Let's expand on the previous analysis by breaking out the skew into types of businesses. We will be looking at the 2 top businesses: restaurants and shopping. "
   ]
  },
  {
   "cell_type": "code",
   "execution_count": 21,
   "id": "3327116a",
   "metadata": {},
   "outputs": [
    {
     "data": {
      "application/vnd.jupyter.widget-view+json": {
       "model_id": "002b7d6b872e418f8d2b706b9e64ac25",
       "version_major": 2,
       "version_minor": 0
      },
      "text/plain": [
       "VBox()"
      ]
     },
     "metadata": {},
     "output_type": "display_data"
    },
    {
     "data": {
      "application/vnd.jupyter.widget-view+json": {
       "model_id": "",
       "version_major": 2,
       "version_minor": 0
      },
      "text/plain": [
       "FloatProgress(value=0.0, bar_style='info', description='Progress:', layout=Layout(height='25px', width='50%'),…"
      ]
     },
     "metadata": {},
     "output_type": "display_data"
    },
    {
     "name": "stdout",
     "output_type": "stream",
     "text": [
      "+--------------------+-----------+----------------------+------------------+--------------------+\n",
      "|         business_id| categories|Review_Score_with_text|   Total_Avg_score|                Skew|\n",
      "+--------------------+-----------+----------------------+------------------+--------------------+\n",
      "|--JuLhLvq3gyjNnXT...|   Shopping|                   5.0|               5.0|                 0.0|\n",
      "|--_nBudPOb1lNRgKf...|Restaurants|                 3.875|             3.875|                 0.0|\n",
      "|--kyOk0waSrCDlbSv...|       Food|    3.7777777777777777|3.8666666666666667|-0.08888888888888902|\n",
      "|--kyOk0waSrCDlbSv...|Restaurants|    3.7777777777777777|3.8666666666666667|-0.08888888888888902|\n",
      "|-1Dcv3siosFTgDJhN...|       Food|     4.076923076923077|               4.2|-0.12307692307692353|\n",
      "|-2ysHxktRcDom1m9A...|   Shopping|                   5.0|               5.0|                 0.0|\n",
      "|-3IqRwpj-iTz1nQWC...|Restaurants|    3.1666666666666665| 2.857142857142857|  0.3095238095238093|\n",
      "|-5zKNFxuoPm8L9OQ0...|   Shopping|     4.344827586206897|           4.34375|0.001077586206896...|\n",
      "|-66HiDa701jBc2qK8...|Restaurants|    3.6623376623376624|3.6744186046511627|-0.01208094231350021|\n",
      "|-6FX2iidcEY5OMOY_...|       Food|    4.2444444444444445|4.2075471698113205| 0.03689727463312398|\n",
      "|-6FX2iidcEY5OMOY_...|Restaurants|    4.2444444444444445|4.2075471698113205| 0.03689727463312398|\n",
      "|-6gIAeMUuR7XJViob...|   Shopping|    2.5762711864406778| 2.693548387096774|-0.11727720065609626|\n",
      "|-777fa6pKF-dcIJLo...|Restaurants|    3.3421052631578947| 3.577777777777778|-0.23567251461988326|\n",
      "|-7Q-UJjq1LJw_2fzu...|       Food|    3.1666666666666665|3.1666666666666665|                 0.0|\n",
      "|-7Q-UJjq1LJw_2fzu...|Restaurants|    3.1666666666666665|3.1666666666666665|                 0.0|\n",
      "|-7mViF5PiylDOtmH7...|   Shopping|                  4.75| 4.695652173913044|  0.0543478260869561|\n",
      "|-9ap9pStLtFBYoMLR...|       Food|    3.4591836734693877| 3.532110091743119|-0.07292641827373147|\n",
      "|-9ap9pStLtFBYoMLR...|Restaurants|    3.4591836734693877| 3.532110091743119|-0.07292641827373147|\n",
      "|-DaGidyE_Vql5fQkB...|   Shopping|                   5.0|               5.0|                 0.0|\n",
      "|-DqwYtCZMWJFk_9mO...|   Shopping|                   2.6|2.3333333333333335|  0.2666666666666666|\n",
      "+--------------------+-----------+----------------------+------------------+--------------------+\n",
      "only showing top 20 rows"
     ]
    }
   ],
   "source": [
    "# Lets query the skew by categories\n",
    "# join with association table for categories\n",
    "\n",
    "df_assc.createOrReplaceTempView('Yelpdata_categories')\n",
    "\n",
    "sqldf_ec = spark.sql(\n",
    "'''\n",
    "SELECT \n",
    "\n",
    "t1.business_id, yc.categories, t1.Review_Score_with_text, t2.Total_Avg_score, \n",
    "(t1.Review_Score_with_text-t2.Total_Avg_score) as Skew\n",
    "\n",
    "FROM\n",
    "\n",
    "(SELECT yb.business_id, avg(yr.stars) as Review_Score_with_text\n",
    "FROM Yelpdata_business yb\n",
    "JOIN Yelpdata_reviews yr ON yb.business_id = yr.business_id\n",
    "WHERE length(yr.text) >= 150\n",
    "GROUP BY yb.business_id) t1\n",
    "\n",
    "INNER JOIN \n",
    "\n",
    "(SELECT yb.business_id, avg(yr.stars) as Total_Avg_Score \n",
    "FROM Yelpdata_business yb\n",
    "JOIN Yelpdata_reviews yr ON yb.business_id = yr.business_id\n",
    "GROUP BY yb.business_id) t2 ON t1.business_id = t2.business_id\n",
    "\n",
    "INNER JOIN\n",
    "\n",
    "Yelpdata_categories yc ON t1.business_id = yc.business_id\n",
    "\n",
    "WHERE yc.categories IN('Restaurants', 'Shopping', 'Food')\n",
    "\n",
    "'''\n",
    ")\n",
    "\n",
    "sqldf_ec.show()"
   ]
  },
  {
   "cell_type": "code",
   "execution_count": 22,
   "id": "2252c8e5",
   "metadata": {},
   "outputs": [
    {
     "data": {
      "application/vnd.jupyter.widget-view+json": {
       "model_id": "eb18d2602ada42c3b7f22bc68b868590",
       "version_major": 2,
       "version_minor": 0
      },
      "text/plain": [
       "VBox()"
      ]
     },
     "metadata": {},
     "output_type": "display_data"
    },
    {
     "data": {
      "application/vnd.jupyter.widget-view+json": {
       "model_id": "",
       "version_major": 2,
       "version_minor": 0
      },
      "text/plain": [
       "FloatProgress(value=0.0, bar_style='info', description='Progress:', layout=Layout(height='25px', width='50%'),…"
      ]
     },
     "metadata": {},
     "output_type": "display_data"
    },
    {
     "data": {
      "image/png": "[encoded data removed]",
      "text/plain": [
       "<IPython.core.display.Image object>"
      ]
     },
     "metadata": {},
     "output_type": "display_data"
    }
   ],
   "source": [
    "# vizualize the skew by Restaurants\n",
    "sqldf_ec\n",
    "pandas_skew_categories = sqldf_ec.toPandas()\n",
    "df_cate = pandas_skew_categories.loc[pandas_skew_categories['categories']=='Restaurants'] \n",
    "\n",
    "plt.figure(figsize = (15,8))\n",
    "plt.hist(df_cate['Skew'], density=True, bins = 20)\n",
    "plt.margins(x=0, y=.25)\n",
    "plt.title(\"Skewness for Restaurants\")\n",
    "plt.ylabel('Count')\n",
    "plt.xlabel('Review Score Difference')\n",
    "plt.show() \n",
    "\n",
    "%matplot plt "
   ]
  },
  {
   "cell_type": "markdown",
   "id": "c6395d4e",
   "metadata": {},
   "source": [
    "For restaurant reviews, review score with long text tend to be slightly lower than average total score"
   ]
  },
  {
   "cell_type": "code",
   "execution_count": 23,
   "id": "c21e209e",
   "metadata": {},
   "outputs": [
    {
     "data": {
      "application/vnd.jupyter.widget-view+json": {
       "model_id": "cb5d31b82d554226a56bf3eb6bcae993",
       "version_major": 2,
       "version_minor": 0
      },
      "text/plain": [
       "VBox()"
      ]
     },
     "metadata": {},
     "output_type": "display_data"
    },
    {
     "data": {
      "application/vnd.jupyter.widget-view+json": {
       "model_id": "",
       "version_major": 2,
       "version_minor": 0
      },
      "text/plain": [
       "FloatProgress(value=0.0, bar_style='info', description='Progress:', layout=Layout(height='25px', width='50%'),…"
      ]
     },
     "metadata": {},
     "output_type": "display_data"
    },
    {
     "data": {
      "image/png": "[encoded data removed]",
      "text/plain": [
       "<IPython.core.display.Image object>"
      ]
     },
     "metadata": {},
     "output_type": "display_data"
    }
   ],
   "source": [
    "# vizualize the skew by Shopping\n",
    "sqldf_ec\n",
    "pandas_skew_categories = sqldf_ec.toPandas()\n",
    "df_cate = pandas_skew_categories.loc[pandas_skew_categories['categories']=='Shopping'] \n",
    "\n",
    "plt.figure(figsize = (15,8))\n",
    "plt.hist(df_cate['Skew'], density=True, bins = 20)\n",
    "plt.margins(x=0, y=.25)\n",
    "plt.title(\"Skewness for Shopping\")\n",
    "plt.ylabel('Count')\n",
    "plt.xlabel('Review Score Difference')\n",
    "plt.show() \n",
    "\n",
    "%matplot plt "
   ]
  },
  {
   "cell_type": "markdown",
   "id": "c6356102",
   "metadata": {},
   "source": [
    "No major noticable skewness for shopping reviews."
   ]
  },
  {
   "cell_type": "markdown",
   "id": "e958864e",
   "metadata": {},
   "source": [
    "# Should the Elite be Trusted? (Or, some other analysis of your choice)\n"
   ]
  },
  {
   "cell_type": "markdown",
   "id": "aafa7403",
   "metadata": {},
   "source": [
    "For the final portion - you have a choice:\n",
    "\n",
    "* Try and analyze some interesting dimension to this data. The **ONLY** requirement is that you must use the **Users** dataset and join on either the **business* or **reviews** dataset\n",
    "* Or, you may try and answer the question posed: how accurate or close are the ratings of an \"elite\" user (check Users table schema) vs the actual business rating.\n",
    "\n",
    "Feel free to use any and all methodologies at your disposal - only requirement is you must render one visualization in your analysis"
   ]
  },
  {
   "cell_type": "markdown",
   "id": "c03865b5",
   "metadata": {},
   "source": [
    "### Loading User Data"
   ]
  },
  {
   "cell_type": "code",
   "execution_count": 24,
   "id": "955d63e8",
   "metadata": {},
   "outputs": [
    {
     "data": {
      "application/vnd.jupyter.widget-view+json": {
       "model_id": "b9bbcd4c16444626a35e6381ca7c2846",
       "version_major": 2,
       "version_minor": 0
      },
      "text/plain": [
       "VBox()"
      ]
     },
     "metadata": {},
     "output_type": "display_data"
    },
    {
     "data": {
      "application/vnd.jupyter.widget-view+json": {
       "model_id": "",
       "version_major": 2,
       "version_minor": 0
      },
      "text/plain": [
       "FloatProgress(value=0.0, bar_style='info', description='Progress:', layout=Layout(height='25px', width='50%'),…"
      ]
     },
     "metadata": {},
     "output_type": "display_data"
    },
    {
     "name": "stdout",
     "output_type": "stream",
     "text": [
      "Total Columns: 22\n",
      "Total Rows: 2,189,457\n",
      "root\n",
      " |-- average_stars: double (nullable = true)\n",
      " |-- compliment_cool: long (nullable = true)\n",
      " |-- compliment_cute: long (nullable = true)\n",
      " |-- compliment_funny: long (nullable = true)\n",
      " |-- compliment_hot: long (nullable = true)\n",
      " |-- compliment_list: long (nullable = true)\n",
      " |-- compliment_more: long (nullable = true)\n",
      " |-- compliment_note: long (nullable = true)\n",
      " |-- compliment_photos: long (nullable = true)\n",
      " |-- compliment_plain: long (nullable = true)\n",
      " |-- compliment_profile: long (nullable = true)\n",
      " |-- compliment_writer: long (nullable = true)\n",
      " |-- cool: long (nullable = true)\n",
      " |-- elite: string (nullable = true)\n",
      " |-- fans: long (nullable = true)\n",
      " |-- friends: string (nullable = true)\n",
      " |-- funny: long (nullable = true)\n",
      " |-- name: string (nullable = true)\n",
      " |-- review_count: long (nullable = true)\n",
      " |-- useful: long (nullable = true)\n",
      " |-- user_id: string (nullable = true)\n",
      " |-- yelping_since: string (nullable = true)"
     ]
    }
   ],
   "source": [
    "# Load the user data from s3\n",
    "df_users = spark.read.json('s3://yelpdatasta9760/yelp_academic_dataset_user.json')\n",
    "\n",
    "print(f'Total Columns: {len(df_users.dtypes)}')\n",
    "print(f'Total Rows: {df_users.count():,}')\n",
    "df_users.printSchema()"
   ]
  },
  {
   "cell_type": "code",
   "execution_count": 25,
   "id": "1c6d589b",
   "metadata": {},
   "outputs": [
    {
     "data": {
      "application/vnd.jupyter.widget-view+json": {
       "model_id": "c3208d16ef494c038c46f54c22d0d84c",
       "version_major": 2,
       "version_minor": 0
      },
      "text/plain": [
       "VBox()"
      ]
     },
     "metadata": {},
     "output_type": "display_data"
    },
    {
     "data": {
      "application/vnd.jupyter.widget-view+json": {
       "model_id": "",
       "version_major": 2,
       "version_minor": 0
      },
      "text/plain": [
       "FloatProgress(value=0.0, bar_style='info', description='Progress:', layout=Layout(height='25px', width='50%'),…"
      ]
     },
     "metadata": {},
     "output_type": "display_data"
    },
    {
     "name": "stdout",
     "output_type": "stream",
     "text": [
      "+--------------------+----------+------------+--------------------+-------------+-------------------+\n",
      "|             user_id|      name|review_count|               elite|average_stars|      yelping_since|\n",
      "+--------------------+----------+------------+--------------------+-------------+-------------------+\n",
      "|q_QQ5kBBwlCcbL1s4...|      Jane|        1220|2006,2007,2008,20...|         3.85|2005-03-14 20:26:35|\n",
      "|dIIKEfOgo0KqUfGQv...|      Gabi|        2136|2007,2008,2009,20...|         4.09|2007-08-10 19:01:51|\n",
      "|D6ErcUnFALnCQN4b1...|     Jason|         119|           2010,2011|         3.76|2007-02-07 15:47:53|\n",
      "|JnPIjvC0cmooNDfsa...|       Kat|         987|2009,2010,2011,20...|         3.77|2009-02-09 16:14:29|\n",
      "|37Hc8hr3cw0iHLoPz...| Christine|         495|      2009,2010,2011|         3.72|2008-03-03 04:57:05|\n",
      "|n-QwITZYrXlKQRiV3...|   Natasha|         229|2010,2011,2012,20...|         3.59|2008-06-25 14:53:17|\n",
      "|eCJoZqpV1fDKJGAsX...|   Bridget|          51|                    |         3.86|2009-07-22 16:47:01|\n",
      "|cojecOwQJpsYDxnjt...|    Steven|          51|           2010,2011|         3.79|2010-07-04 17:18:40|\n",
      "|1jXmzuIFKxTnEnR0p...|     Clara|         299|2010,2011,2012,20...|         3.43|2010-10-01 17:29:36|\n",
      "|-8QoOIfvwwxJ4sY20...|Antoinette|         288|2012,2013,2014,20...|         3.88|2007-08-04 20:21:09|\n",
      "|EtofuImujQBSo02xa...| Hollyanna|          44|           2009,2010|         3.83|2008-11-03 17:31:30|\n",
      "|cxS6dbjyPgPS1S890...|       Joe|          65|                    |         4.18|2005-07-22 11:07:20|\n",
      "|MUzkXfPS9JaMgJ907...|     Damon|         750|2010,2012,2013,20...|         4.16|2009-01-29 03:48:53|\n",
      "|tjwblGkWN9m0vsGay...|       Ben|         632|2010,2011,2012,20...|         3.66|2009-09-30 12:20:56|\n",
      "|m-zIVssiXN4bnDFqM...|     Bryan|           2|                    |          4.5|2009-04-18 13:14:33|\n",
      "|fxqvyXlml4400Bgls...|  Cristina|         363|2011,2012,2013,20...|         3.65|2010-01-10 22:31:48|\n",
      "|9edAbpniyhHFdpAvk...|      Cara|         356| 2007,2008,2009,2010|         3.73|2007-10-03 23:21:51|\n",
      "|wURnB9fRNGAli13yB...|    Jessie|          77| 2009,2010,2011,2012|         3.75|2009-02-11 17:40:20|\n",
      "|l4P65LXNBnJqI7oTX...|      Lisa|         202|2008,2009,2010,20...|         3.93|2008-03-31 17:05:27|\n",
      "|9RIXlhUb_xEVuc_o0...|     silly|          53|                    |         3.57|2009-02-28 17:37:36|\n",
      "+--------------------+----------+------------+--------------------+-------------+-------------------+\n",
      "only showing top 20 rows"
     ]
    }
   ],
   "source": [
    "# Show some columns to see what it looks like\n",
    "df_show_users = df_users.select('user_id', 'name', 'review_count', 'elite', 'average_stars', 'yelping_since')\n",
    "df_show_users.show(20)"
   ]
  },
  {
   "cell_type": "code",
   "execution_count": 26,
   "id": "058febe6",
   "metadata": {},
   "outputs": [
    {
     "data": {
      "application/vnd.jupyter.widget-view+json": {
       "model_id": "e495257c7aaa4aef8aa9bb3e3382174a",
       "version_major": 2,
       "version_minor": 0
      },
      "text/plain": [
       "VBox()"
      ]
     },
     "metadata": {},
     "output_type": "display_data"
    },
    {
     "data": {
      "application/vnd.jupyter.widget-view+json": {
       "model_id": "",
       "version_major": 2,
       "version_minor": 0
      },
      "text/plain": [
       "FloatProgress(value=0.0, bar_style='info', description='Progress:', layout=Layout(height='25px', width='50%'),…"
      ]
     },
     "metadata": {},
     "output_type": "display_data"
    },
    {
     "name": "stdout",
     "output_type": "stream",
     "text": [
      "+--------------------+----+------------+-----+-------------+-------------------+\n",
      "|             user_id|name|review_count|elite|average_stars|      yelping_since|\n",
      "+--------------------+----+------------+-----+-------------+-------------------+\n",
      "|q_QQ5kBBwlCcbL1s4...|Jane|        1220| 2006|         3.85|2005-03-14 20:26:35|\n",
      "|q_QQ5kBBwlCcbL1s4...|Jane|        1220| 2007|         3.85|2005-03-14 20:26:35|\n",
      "|q_QQ5kBBwlCcbL1s4...|Jane|        1220| 2008|         3.85|2005-03-14 20:26:35|\n",
      "|q_QQ5kBBwlCcbL1s4...|Jane|        1220| 2009|         3.85|2005-03-14 20:26:35|\n",
      "|q_QQ5kBBwlCcbL1s4...|Jane|        1220| 2010|         3.85|2005-03-14 20:26:35|\n",
      "+--------------------+----+------------+-----+-------------+-------------------+\n",
      "only showing top 5 rows"
     ]
    }
   ],
   "source": [
    "# Build association table for easier analytics of user table\n",
    "df_inter = df_users.withColumn('elite', psf.explode(psf.split(\"elite\", \",\")))\n",
    "df_assc_user = df_inter.select('user_id', 'name', 'review_count', 'elite', 'average_stars', 'yelping_since')\n",
    "df_assc_user.show(5)"
   ]
  },
  {
   "cell_type": "code",
   "execution_count": 27,
   "id": "cc13e206",
   "metadata": {},
   "outputs": [
    {
     "data": {
      "application/vnd.jupyter.widget-view+json": {
       "model_id": "793d3d02ff92443ca553bd2ca9fca6ac",
       "version_major": 2,
       "version_minor": 0
      },
      "text/plain": [
       "VBox()"
      ]
     },
     "metadata": {},
     "output_type": "display_data"
    },
    {
     "data": {
      "application/vnd.jupyter.widget-view+json": {
       "model_id": "",
       "version_major": 2,
       "version_minor": 0
      },
      "text/plain": [
       "FloatProgress(value=0.0, bar_style='info', description='Progress:', layout=Layout(height='25px', width='50%'),…"
      ]
     },
     "metadata": {},
     "output_type": "display_data"
    },
    {
     "name": "stdout",
     "output_type": "stream",
     "text": [
      "+--------------------+----------------------+------------------+--------------------+\n",
      "|         business_id|EliteOnly_Review_Score|   Total_Avg_Score|          Elite_Skew|\n",
      "+--------------------+----------------------+------------------+--------------------+\n",
      "|--164t1nclzzmca7e...|    3.6451612903225805| 3.877551020408163| -0.2323897300855826|\n",
      "|--6COJIAjkQwSUZci...|    3.9411764705882355| 4.107843137254902|-0.16666666666666607|\n",
      "|--DzGwfuJH12DjYz9...|                   3.0|2.2666666666666666|  0.7333333333333334|\n",
      "|--JKSSgnfoOjVDFGv...|                   5.0|              4.04|                0.96|\n",
      "|--JuLhLvq3gyjNnXT...|                   5.0|               5.0|                 0.0|\n",
      "|--ToovR1Ob2e131Zi...|                   5.0|              4.68|  0.3200000000000003|\n",
      "|--UNNdnHRhsyFUbDg...|    4.4798850574712645| 4.390995260663507| 0.08888979680775755|\n",
      "|--_nBudPOb1lNRgKf...|                   4.0|             3.875|               0.125|\n",
      "|--bbZa1KPYSmW0X4o...|                   3.9| 4.148936170212766| -0.2489361702127657|\n",
      "|--g3lcoxHd8djBe1y...|                   4.0| 4.230769230769231|-0.23076923076923084|\n",
      "|--hLwt1d-CymEs7KT...|                   4.0|3.8333333333333335| 0.16666666666666652|\n",
      "|--hkbIWgBKBOZq4Vc...|     4.474452554744525| 4.301587301587301|  0.1728652531572239|\n",
      "|--iiZK8pW7kC2Tr2P...|                   2.8|3.1645569620253164| -0.3645569620253166|\n",
      "|--jtHbM1FC1WOXIH9...|                   5.0|               5.0|                 0.0|\n",
      "|--kK4a5ggLXioTc4K...|     3.736842105263158|3.6041666666666665| 0.13267543859649145|\n",
      "|--kyOk0waSrCDlbSv...|                  3.75|3.8666666666666667| -0.1166666666666667|\n",
      "|--lXp7qjUuniGt3n-...|                   5.0| 4.583333333333333| 0.41666666666666696|\n",
      "|--mvQZf74PNpgTKA4...|                   5.0| 4.166666666666667|   0.833333333333333|\n",
      "|--oGYZhLMMvwfHmty...|                   3.0| 2.933333333333333| 0.06666666666666687|\n",
      "|--vPNAA8d8UUruvuO...|    3.6666666666666665|4.2631578947368425|  -0.596491228070176|\n",
      "+--------------------+----------------------+------------------+--------------------+\n",
      "only showing top 20 rows"
     ]
    }
   ],
   "source": [
    "# Calculate Elite only review score and compare to Total Average score\n",
    "\n",
    "df_assc_user.createOrReplaceTempView('Yelpdata_assc_users')\n",
    "\n",
    "sqldf3 = spark.sql(\n",
    "'''\n",
    "SELECT t1.business_id, t1.EliteOnly_Review_Score, t2.Total_Avg_Score, (t1.EliteOnly_Review_Score-t2.Total_Avg_Score) as Elite_Skew\n",
    "FROM\n",
    "\n",
    "(SELECT yr.business_id, avg(yr.stars) as EliteOnly_Review_Score \n",
    "FROM Yelpdata_reviews yr \n",
    "JOIN Yelpdata_assc_users yu ON (yu.user_id = yr.user_id AND YEAR(yr.date)= yu.elite)\n",
    "GROUP BY yr.business_id\n",
    "ORDER BY yr.business_id) t1\n",
    "\n",
    "JOIN\n",
    "\n",
    "(SELECT yb.business_id, avg(yr.stars) as Total_Avg_Score \n",
    "FROM Yelpdata_business yb\n",
    "JOIN Yelpdata_reviews yr ON yb.business_id = yr.business_id\n",
    "GROUP BY yb.business_id\n",
    "ORDER BY yb.business_id) t2\n",
    "\n",
    "ON t1.business_id=t2.business_id\n",
    "\n",
    "'''\n",
    ")\n",
    "\n",
    "sqldf3.show()"
   ]
  },
  {
   "cell_type": "code",
   "execution_count": 28,
   "id": "6604d8b1",
   "metadata": {},
   "outputs": [
    {
     "data": {
      "application/vnd.jupyter.widget-view+json": {
       "model_id": "4903e108e9d941ee8c6bdd7423c1b0da",
       "version_major": 2,
       "version_minor": 0
      },
      "text/plain": [
       "VBox()"
      ]
     },
     "metadata": {},
     "output_type": "display_data"
    },
    {
     "data": {
      "application/vnd.jupyter.widget-view+json": {
       "model_id": "",
       "version_major": 2,
       "version_minor": 0
      },
      "text/plain": [
       "FloatProgress(value=0.0, bar_style='info', description='Progress:', layout=Layout(height='25px', width='50%'),…"
      ]
     },
     "metadata": {},
     "output_type": "display_data"
    }
   ],
   "source": [
    "# plot it \n",
    "elite_skew_df = sqldf3.toPandas()\n",
    "\n",
    "plt.figure(figsize = (15,8))\n",
    "plt.hist(elite_skew_df['Elite_Skew'], density=True, bins = 40)\n",
    "plt.margins(x=0, y=.25)\n",
    "plt.title(\"Skewness for Elite Yelpers (Elite Score - Avg Total Score)\")\n",
    "plt.ylabel('Count')\n",
    "plt.xlabel('Review Score Difference')\n",
    "plt.show() "
   ]
  },
  {
   "cell_type": "code",
   "execution_count": 29,
   "id": "4f88296f",
   "metadata": {},
   "outputs": [
    {
     "data": {
      "application/vnd.jupyter.widget-view+json": {
       "model_id": "",
       "version_major": 2,
       "version_minor": 0
      },
      "text/plain": [
       "FloatProgress(value=0.0, bar_style='info', description='Progress:', layout=Layout(height='25px', width='50%'),…"
      ]
     },
     "metadata": {},
     "output_type": "display_data"
    },
    {
     "data": {
      "image/png": "[encoded data removed]",
      "text/plain": [
       "<IPython.core.display.Image object>"
      ]
     },
     "metadata": {},
     "output_type": "display_data"
    }
   ],
   "source": [
    "%matplot plt "
   ]
  },
  {
   "cell_type": "markdown",
   "id": "1d55f9f6",
   "metadata": {},
   "source": [
    "from the plot, elite users tend to give very slightly (almost not noticable) HIGHER score than the total average reviews. "
   ]
  }
 ],
 "metadata": {
  "kernelspec": {
   "display_name": "PySpark",
   "language": "",
   "name": "pysparkkernel"
  },
  "language_info": {
   "codemirror_mode": {
    "name": "python",
    "version": 2
   },
   "mimetype": "text/x-python",
   "name": "pyspark",
   "pygments_lexer": "python2"
  }
 },
 "nbformat": 4,
 "nbformat_minor": 5
}
